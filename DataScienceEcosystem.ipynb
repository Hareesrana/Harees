{
  "metadata": {
    "kernelspec": {
      "name": "python",
      "display_name": "Python (Pyodide)",
      "language": "python"
    },
    "language_info": {
      "codemirror_mode": {
        "name": "python",
        "version": 3
      },
      "file_extension": ".py",
      "mimetype": "text/x-python",
      "name": "python",
      "nbconvert_exporter": "python",
      "pygments_lexer": "ipython3",
      "version": "3.8"
    }
  },
  "nbformat_minor": 4,
  "nbformat": 4,
  "cells": [
    {
      "cell_type": "markdown",
      "source": "#Data Science Tools and Ecosystem",
      "metadata": {}
    },
    {
      "cell_type": "markdown",
      "source": "In this notebook, Data Science Tools and Ecosystem are summarized.",
      "metadata": {}
    },
    {
      "cell_type": "markdown",
      "source": "**Some of the popular languages that Data Scientists use are:**\n\n1. **Python:** A versatile language with extensive libraries for data manipulation, analysis, and visualization (e.g., Pandas, NumPy, Matplotlib, Scikit-learn).\n2. **R:** A language specifically designed for statistical computing and graphics, offering powerful tools for data analysis and visualization.\n3. **SQL:** Essential for working with relational databases, enabling data retrieval, manipulation, and analysis from structured data sources. \n4. **Java:** A robust and widely used language, applicable for big data processing and machine learning with libraries like Spark and Deeplearning4j.\n5. **Julia:** A high-performance language designed for scientific computing, known for its speed and ease of use.",
      "metadata": {}
    },
    {
      "cell_type": "markdown",
      "source": "**Some of the commonly used tools used by Data Scientists include:**\n\n1. **Jupyter Notebook:** An interactive environment for writing and executing code, visualizing data, and sharing results.\n2. **RStudio:** An integrated development environment (IDE) specifically designed for R, providing tools for data exploration, visualization, and development.\n3. **VS Code:** A versatile code editor with excellent support for Python and other data science languages, offering numerous extensions for enhanced data science workflows.\n4. **Tableau:** A powerful data visualization and business intelligence tool for creating interactive dashboards and exploring data.\n5. **Power BI:** A business analytics service offered by Microsoft, allowing users to connect to various data sources, create interactive reports, and share insights.",
      "metadata": {}
    },
    {
      "cell_type": "markdown",
      "source": "Below are the examples of evaluating arithematic expressions using ",
      "metadata": {}
    },
    {
      "cell_type": "code",
      "source": "Results=(24*5)+5\nprint(\"Results:\",Results)",
      "metadata": {
        "trusted": true
      },
      "outputs": [
        {
          "name": "stdout",
          "text": "Results: 125\n",
          "output_type": "stream"
        }
      ],
      "execution_count": 16
    },
    {
      "cell_type": "code",
      "source": "def hours_to_minutes(hours):\n  return hours * 60",
      "metadata": {
        "trusted": true
      },
      "outputs": [],
      "execution_count": 9
    },
    {
      "cell_type": "markdown",
      "source": "**Some of the commonly used libraries used by Data Scientists include:**\n\n1. **Pandas:** A powerful library for data manipulation and analysis, providing data structures like DataFrames for efficient data handling.\n2. **NumPy:** The fundamental package for scientific computing in Python, offering support for arrays, matrices, and mathematical functions.\n3. **Matplotlib:** A versatile library for creating static, animated, and interactive visualizations in Python.\n4. **Scikit-learn:** A comprehensive machine learning library that provides tools for various tasks, including classification, regression, clustering, and dimensionality reduction.\n5. **TensorFlow:** An open-source machine learning framework developed by Google, widely used for deep learning applications. ",
      "metadata": {}
    },
    {
      "cell_type": "code",
      "source": "hours_to_minutes(9)",
      "metadata": {
        "trusted": true
      },
      "outputs": [
        {
          "execution_count": 10,
          "output_type": "execute_result",
          "data": {
            "text/plain": "540"
          },
          "metadata": {}
        }
      ],
      "execution_count": 10
    },
    {
      "cell_type": "code",
      "source": "def minutes_to_hours(minutes):\n  return minutes / 60",
      "metadata": {
        "trusted": true
      },
      "outputs": [],
      "execution_count": 11
    },
    {
      "cell_type": "code",
      "source": "minutes_to_hours(600)",
      "metadata": {
        "trusted": true
      },
      "outputs": [
        {
          "execution_count": 12,
          "output_type": "execute_result",
          "data": {
            "text/plain": "10.0"
          },
          "metadata": {}
        }
      ],
      "execution_count": 12
    },
    {
      "cell_type": "markdown",
      "source": "Below are the examples for the unordered list",
      "metadata": {}
    },
    {
      "cell_type": "code",
      "source": "unordered_list=[1,3,2,5,6]",
      "metadata": {
        "trusted": true
      },
      "outputs": [],
      "execution_count": 13
    },
    {
      "cell_type": "code",
      "source": "unordered_list",
      "metadata": {
        "trusted": true
      },
      "outputs": [
        {
          "execution_count": 14,
          "output_type": "execute_result",
          "data": {
            "text/plain": "[1, 3, 2, 5, 6]"
          },
          "metadata": {}
        }
      ],
      "execution_count": 14
    },
    {
      "cell_type": "markdown",
      "source": "**Authours Name**",
      "metadata": {}
    },
    {
      "cell_type": "markdown",
      "source": "Harees G",
      "metadata": {}
    },
    {
      "cell_type": "code",
      "source": "",
      "metadata": {
        "trusted": true
      },
      "outputs": [],
      "execution_count": null
    }
  ]
}