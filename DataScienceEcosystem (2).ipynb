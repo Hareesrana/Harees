{
  "metadata": {
    "kernelspec": {
      "name": "python",
      "display_name": "Python (Pyodide)",
      "language": "python"
    },
    "language_info": {
      "codemirror_mode": {
        "name": "python",
        "version": 3
      },
      "file_extension": ".py",
      "mimetype": "text/x-python",
      "name": "python",
      "nbconvert_exporter": "python",
      "pygments_lexer": "ipython3",
      "version": "3.8"
    }
  },
  "nbformat_minor": 4,
  "nbformat": 4,
  "cells": [
    {
      "cell_type": "markdown",
      "source": "Data Science Tools and Ecosystem",
      "metadata": {}
    },
    {
      "cell_type": "markdown",
      "source": "**Objectives:**\n\n1. List popular Language for Data science\n2. List important libraries for data scientists\n3. Introduction to github",
      "metadata": {}
    },
    {
      "cell_type": "markdown",
      "source": "In this notebook, Data Science Tools and Ecosystem are summarized.",
      "metadata": {}
    },
    {
      "cell_type": "markdown",
      "source": "**Some of the popular languages that Data Scientists use are:**\n\n1. Python\n2. R\n3. SQL \n4. Java ",
      "metadata": {}
    },
    {
      "cell_type": "markdown",
      "source": "**Some of the commonly used libraries used by Data Scientists include:**\n\n1. Pandas\n2. NumPy\n3. Scikit-learn\n4. Matplotlib\n5. TensorFlow/PyTorch",
      "metadata": {}
    },
    {
      "cell_type": "markdown",
      "source": "**Some of the commonly used tools used by Data Scientists include:**",
      "metadata": {}
    },
    {
      "cell_type": "markdown",
      "source": "| | Tool   | \n|---:|:-------------|\n| 1 | Jupyter notebook  | \n| 2 | VSCode  |\n| 3 | Rstudio  |\n",
      "metadata": {}
    },
    {
      "cell_type": "markdown",
      "source": "**Below are a few examples of evaluating arithmetic expressions in Python**",
      "metadata": {}
    },
    {
      "cell_type": "code",
      "source": "(3*4)+5",
      "metadata": {
        "trusted": true
      },
      "outputs": [
        {
          "execution_count": 11,
          "output_type": "execute_result",
          "data": {
            "text/plain": "17"
          },
          "metadata": {}
        }
      ],
      "execution_count": 11
    },
    {
      "cell_type": "code",
      "source": "#This Function will convert the minutes into hours by dividing the minute value divided by 60\ndef minutes_to_hours(minutes):\n  return minutes / 60",
      "metadata": {
        "trusted": true
      },
      "outputs": [],
      "execution_count": 12
    },
    {
      "cell_type": "code",
      "source": "minutes_to_hours(200)",
      "metadata": {
        "trusted": true
      },
      "outputs": [
        {
          "execution_count": 13,
          "output_type": "execute_result",
          "data": {
            "text/plain": "3.3333333333333335"
          },
          "metadata": {}
        }
      ],
      "execution_count": 13
    },
    {
      "cell_type": "markdown",
      "source": "**Author's Name**",
      "metadata": {}
    },
    {
      "cell_type": "markdown",
      "source": "Harees",
      "metadata": {}
    },
    {
      "cell_type": "code",
      "source": "",
      "metadata": {
        "trusted": true
      },
      "outputs": [],
      "execution_count": null
    }
  ]
}